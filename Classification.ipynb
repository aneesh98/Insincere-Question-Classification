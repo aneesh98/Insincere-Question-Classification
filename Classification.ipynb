{
  "nbformat": 4,
  "nbformat_minor": 0,
  "metadata": {
    "colab": {
      "name": "Classification.ipynb",
      "provenance": [],
      "include_colab_link": true
    },
    "kernelspec": {
      "name": "python3",
      "display_name": "Python 3"
    },
    "accelerator": "GPU"
  },
  "cells": [
    {
      "cell_type": "markdown",
      "metadata": {
        "id": "view-in-github",
        "colab_type": "text"
      },
      "source": [
        "<a href=\"https://colab.research.google.com/github/aneesh98/Insincere-Question-Classification/blob/master/Classification.ipynb\" target=\"_parent\"><img src=\"https://colab.research.google.com/assets/colab-badge.svg\" alt=\"Open In Colab\"/></a>"
      ]
    },
    {
      "cell_type": "code",
      "metadata": {
        "id": "TsCV2IR39sf2",
        "colab_type": "code",
        "outputId": "646446e1-1f46-4595-e73c-e737de0a4391",
        "colab": {
          "base_uri": "https://localhost:8080/",
          "height": 212
        }
      },
      "source": [
        "############## DATA SETUP ##############\n",
        "!pip install kaggle\n",
        "!mkdir -p ~/.kaggle\n",
        "!cp kaggle.json ~/.kaggle/"
      ],
      "execution_count": 1,
      "outputs": [
        {
          "output_type": "stream",
          "text": [
            "Requirement already satisfied: kaggle in /usr/local/lib/python3.6/dist-packages (1.5.6)\n",
            "Requirement already satisfied: python-dateutil in /usr/local/lib/python3.6/dist-packages (from kaggle) (2.6.1)\n",
            "Requirement already satisfied: certifi in /usr/local/lib/python3.6/dist-packages (from kaggle) (2019.9.11)\n",
            "Requirement already satisfied: six>=1.10 in /usr/local/lib/python3.6/dist-packages (from kaggle) (1.12.0)\n",
            "Requirement already satisfied: requests in /usr/local/lib/python3.6/dist-packages (from kaggle) (2.21.0)\n",
            "Requirement already satisfied: urllib3<1.25,>=1.21.1 in /usr/local/lib/python3.6/dist-packages (from kaggle) (1.24.3)\n",
            "Requirement already satisfied: python-slugify in /usr/local/lib/python3.6/dist-packages (from kaggle) (4.0.0)\n",
            "Requirement already satisfied: tqdm in /usr/local/lib/python3.6/dist-packages (from kaggle) (4.28.1)\n",
            "Requirement already satisfied: idna<2.9,>=2.5 in /usr/local/lib/python3.6/dist-packages (from requests->kaggle) (2.8)\n",
            "Requirement already satisfied: chardet<3.1.0,>=3.0.2 in /usr/local/lib/python3.6/dist-packages (from requests->kaggle) (3.0.4)\n",
            "Requirement already satisfied: text-unidecode>=1.3 in /usr/local/lib/python3.6/dist-packages (from python-slugify->kaggle) (1.3)\n"
          ],
          "name": "stdout"
        }
      ]
    },
    {
      "cell_type": "code",
      "metadata": {
        "id": "dzPIjkok_bSe",
        "colab_type": "code",
        "colab": {
          "base_uri": "https://localhost:8080/",
          "height": 265
        },
        "outputId": "ba4eded2-3794-4602-f836-1f3d466d45e3"
      },
      "source": [
        "!kaggle competitions download -c quora-insincere-questions-classification"
      ],
      "execution_count": 2,
      "outputs": [
        {
          "output_type": "stream",
          "text": [
            "Warning: Your Kaggle API key is readable by other users on this system! To fix this, you can run 'chmod 600 /root/.kaggle/kaggle.json'\n",
            "Warning: Looks like you're using an outdated API Version, please consider updating (server 1.5.6 / client 1.5.4)\n",
            "Downloading train.csv.zip to /content\n",
            " 90% 49.0M/54.4M [00:00<00:00, 36.3MB/s]\n",
            "100% 54.4M/54.4M [00:00<00:00, 69.7MB/s]\n",
            "Downloading embeddings.zip to /content\n",
            "100% 5.94G/5.96G [01:10<00:00, 76.2MB/s]\n",
            "100% 5.96G/5.96G [01:10<00:00, 90.4MB/s]\n",
            "Downloading sample_submission.csv.zip to /content\n",
            "100% 4.08M/4.08M [00:00<00:00, 40.3MB/s]\n",
            "\n",
            "Downloading test.csv.zip to /content\n",
            " 32% 5.00M/15.7M [00:00<00:00, 36.2MB/s]\n",
            "100% 15.7M/15.7M [00:00<00:00, 61.4MB/s]\n"
          ],
          "name": "stdout"
        }
      ]
    },
    {
      "cell_type": "code",
      "metadata": {
        "id": "-8RMMNoQAqOe",
        "colab_type": "code",
        "outputId": "5595f7eb-0b95-4eb0-9e5b-14edb971daa7",
        "colab": {
          "base_uri": "https://localhost:8080/",
          "height": 87
        }
      },
      "source": [
        "!unzip train.csv.zip\n",
        "!unzip test.csv.zip"
      ],
      "execution_count": 3,
      "outputs": [
        {
          "output_type": "stream",
          "text": [
            "Archive:  train.csv.zip\n",
            "  inflating: train.csv               \n",
            "Archive:  test.csv.zip\n",
            "  inflating: test.csv                \n"
          ],
          "name": "stdout"
        }
      ]
    },
    {
      "cell_type": "code",
      "metadata": {
        "id": "P5piGkqABF2j",
        "colab_type": "code",
        "outputId": "aac1eb78-41f7-49ee-f5a2-088dbb4b34cd",
        "colab": {
          "base_uri": "https://localhost:8080/",
          "height": 87
        }
      },
      "source": [
        "############# ALL IMPORT STATEMENTS ##############\n",
        "import pandas as pd\n",
        "import tensorflow as tf\n",
        "import numpy as np\n",
        "import matplotlib.pyplot as plt\n",
        "from keras.preprocessing.text import Tokenizer\n",
        "from keras.preprocessing.sequence import pad_sequences\n",
        "import nltk \n",
        "nltk.download('punkt')"
      ],
      "execution_count": 39,
      "outputs": [
        {
          "output_type": "stream",
          "text": [
            "Using TensorFlow backend.\n"
          ],
          "name": "stderr"
        },
        {
          "output_type": "stream",
          "text": [
            "[nltk_data] Downloading package punkt to /root/nltk_data...\n",
            "[nltk_data]   Package punkt is already up-to-date!\n"
          ],
          "name": "stdout"
        },
        {
          "output_type": "execute_result",
          "data": {
            "text/plain": [
              "True"
            ]
          },
          "metadata": {
            "tags": []
          },
          "execution_count": 39
        }
      ]
    },
    {
      "cell_type": "code",
      "metadata": {
        "id": "NA69mq4sBPrw",
        "colab_type": "code",
        "outputId": "787511e5-d709-4801-91bf-429545d5c2d8",
        "colab": {
          "base_uri": "https://localhost:8080/",
          "height": 105
        }
      },
      "source": [
        "train = pd.read_csv('train.csv')\n",
        "negative_texts = train[train['target']==1].head()\n",
        "for k in range(5):\n",
        "  print(negative_texts.iloc[k, 1])"
      ],
      "execution_count": 16,
      "outputs": [
        {
          "output_type": "stream",
          "text": [
            "Has the United States become the largest dictatorship in the world?\n",
            "Which babies are more sweeter to their parents? Dark skin babies or light skin babies?\n",
            "If blacks support school choice and mandatory sentencing for criminals why don't they vote Republican?\n",
            "I am gay boy and I love my cousin (boy). He is sexy, but I dont know what to do. He is hot, and I want to see his di**. What should I do?\n",
            "Which races have the smallest penis?\n"
          ],
          "name": "stdout"
        }
      ]
    },
    {
      "cell_type": "code",
      "metadata": {
        "id": "GAhjZlLjpsWu",
        "colab_type": "code",
        "colab": {}
      },
      "source": [
        "CONTRACTION_MAP = {\n",
        "\"ain't\": \"is not\",\n",
        "\"aren't\": \"are not\",\n",
        "\"can't\": \"cannot\",\n",
        "\"can't've\": \"cannot have\",\n",
        "\"'cause\": \"because\",\n",
        "\"could've\": \"could have\",\n",
        "\"couldn't\": \"could not\",\n",
        "\"couldn't've\": \"could not have\",\n",
        "\"didn't\": \"did not\",\n",
        "\"doesn't\": \"does not\",\n",
        "\"don't\": \"do not\",\n",
        "\"hadn't\": \"had not\",\n",
        "\"hadn't've\": \"had not have\",\n",
        "\"hasn't\": \"has not\",\n",
        "\"haven't\": \"have not\",\n",
        "\"he'd\": \"he would\",\n",
        "\"he'd've\": \"he would have\",\n",
        "\"he'll\": \"he will\",\n",
        "\"he'll've\": \"he he will have\",\n",
        "\"he's\": \"he is\",\n",
        "\"how'd\": \"how did\",\n",
        "\"how'd'y\": \"how do you\",\n",
        "\"how'll\": \"how will\",\n",
        "\"how's\": \"how is\",\n",
        "\"I'd\": \"I would\",\n",
        "\"I'd've\": \"I would have\",\n",
        "\"I'll\": \"I will\",\n",
        "\"I'll've\": \"I will have\",\n",
        "\"I'm\": \"I am\",\n",
        "\"I've\": \"I have\",\n",
        "\"i'd\": \"i would\",\n",
        "\"i'd've\": \"i would have\",\n",
        "\"i'll\": \"i will\",\n",
        "\"i'll've\": \"i will have\",\n",
        "\"i'm\": \"i am\",\n",
        "\"i've\": \"i have\",\n",
        "\"isn't\": \"is not\",\n",
        "\"it'd\": \"it would\",\n",
        "\"it'd've\": \"it would have\",\n",
        "\"it'll\": \"it will\",\n",
        "\"it'll've\": \"it will have\",\n",
        "\"it's\": \"it is\",\n",
        "\"let's\": \"let us\",\n",
        "\"ma'am\": \"madam\",\n",
        "\"mayn't\": \"may not\",\n",
        "\"might've\": \"might have\",\n",
        "\"mightn't\": \"might not\",\n",
        "\"mightn't've\": \"might not have\",\n",
        "\"must've\": \"must have\",\n",
        "\"mustn't\": \"must not\",\n",
        "\"mustn't've\": \"must not have\",\n",
        "\"needn't\": \"need not\",\n",
        "\"needn't've\": \"need not have\",\n",
        "\"o'clock\": \"of the clock\",\n",
        "\"oughtn't\": \"ought not\",\n",
        "\"oughtn't've\": \"ought not have\",\n",
        "\"shan't\": \"shall not\",\n",
        "\"sha'n't\": \"shall not\",\n",
        "\"shan't've\": \"shall not have\",\n",
        "\"she'd\": \"she would\",\n",
        "\"she'd've\": \"she would have\",\n",
        "\"she'll\": \"she will\",\n",
        "\"she'll've\": \"she will have\",\n",
        "\"she's\": \"she is\",\n",
        "\"should've\": \"should have\",\n",
        "\"shouldn't\": \"should not\",\n",
        "\"shouldn't've\": \"should not have\",\n",
        "\"so've\": \"so have\",\n",
        "\"so's\": \"so as\",\n",
        "\"that'd\": \"that would\",\n",
        "\"that'd've\": \"that would have\",\n",
        "\"that's\": \"that is\",\n",
        "\"there'd\": \"there would\",\n",
        "\"there'd've\": \"there would have\",\n",
        "\"there's\": \"there is\",\n",
        "\"they'd\": \"they would\",\n",
        "\"they'd've\": \"they would have\",\n",
        "\"they'll\": \"they will\",\n",
        "\"they'll've\": \"they will have\",\n",
        "\"they're\": \"they are\",\n",
        "\"they've\": \"they have\",\n",
        "\"to've\": \"to have\",\n",
        "\"wasn't\": \"was not\",\n",
        "\"we'd\": \"we would\",\n",
        "\"we'd've\": \"we would have\",\n",
        "\"we'll\": \"we will\",\n",
        "\"we'll've\": \"we will have\",\n",
        "\"we're\": \"we are\",\n",
        "\"we've\": \"we have\",\n",
        "\"weren't\": \"were not\",\n",
        "\"what'll\": \"what will\",\n",
        "\"what'll've\": \"what will have\",\n",
        "\"what're\": \"what are\",\n",
        "\"what's\": \"what is\",\n",
        "\"what've\": \"what have\",\n",
        "\"when's\": \"when is\",\n",
        "\"when've\": \"when have\",\n",
        "\"where'd\": \"where did\",\n",
        "\"where's\": \"where is\",\n",
        "\"where've\": \"where have\",\n",
        "\"who'll\": \"who will\",\n",
        "\"who'll've\": \"who will have\",\n",
        "\"who's\": \"who is\",\n",
        "\"who've\": \"who have\",\n",
        "\"why's\": \"why is\",\n",
        "\"why've\": \"why have\",\n",
        "\"will've\": \"will have\",\n",
        "\"won't\": \"will not\",\n",
        "\"won't've\": \"will not have\",\n",
        "\"would've\": \"would have\",\n",
        "\"wouldn't\": \"would not\",\n",
        "\"wouldn't've\": \"would not have\",\n",
        "\"y'all\": \"you all\",\n",
        "\"y'all'd\": \"you all would\",\n",
        "\"y'all'd've\": \"you all would have\",\n",
        "\"y'all're\": \"you all are\",\n",
        "\"y'all've\": \"you all have\",\n",
        "\"you'd\": \"you would\",\n",
        "\"you'd've\": \"you would have\",\n",
        "\"you'll\": \"you will\",\n",
        "\"you'll've\": \"you will have\",\n",
        "\"you're\": \"you are\",\n",
        "\"you've\": \"you have\"\n",
        "}\n",
        "import re"
      ],
      "execution_count": 0,
      "outputs": []
    },
    {
      "cell_type": "code",
      "metadata": {
        "id": "1CIcdafTpxdU",
        "colab_type": "code",
        "colab": {
          "base_uri": "https://localhost:8080/",
          "height": 87
        },
        "outputId": "1464ce62-0ed3-4bec-c400-1076d9c1524d"
      },
      "source": [
        "class TextProcessor:\n",
        "  def __init__(self):\n",
        "    pass\n",
        "\n",
        "  def expand_contractions(self, text, contraction_map = CONTRACTION_MAP):\n",
        "    pattern = re.compile('({})'.format('|'.join(contraction_map.keys())), flags = re.IGNORECASE | re.DOTALL)\n",
        "    def expand_match(contraction):\n",
        "      match = contraction.group(0)\n",
        "      print(\"GROUP \", match)\n",
        "      first_char = match[0]\n",
        "      expanded_contraction = contraction_map.get(match) if contraction_map.get(match) else contraction_map.get(match.lower())\n",
        "      expanded_contraction = first_char + expanded_contraction[1:]\n",
        "      return expanded_contraction\n",
        "    expanded_text = pattern.sub(expand_match, text)\n",
        "    # print(expanded_text)\n",
        "    expanded_text = re.sub(\"'\", \"\", expanded_text)\n",
        "    return expanded_text\n",
        "\n",
        "  def remove_special_characters(self, text, remove_digits = False):\n",
        "    pattern = r'[^a-zA-Z0-9\\s]' if not remove_digits else r'[^a-zA-Z\\s]'\n",
        "    text = re.sub(pattern,'', text)\n",
        "    return text\n",
        "  \n",
        "  def lower_all(self, text):\n",
        "    return text.lower()\n",
        "\n",
        "  def remove_stopwords(self, text):\n",
        "    GAP_PATTERN = r'\\s+'\n",
        "    # nltk.download('stopwords')\n",
        "    stop_words = nltk.corpus.stopwords.words('english')\n",
        "    regex_wt = nltk.RegexpTokenizer(pattern=GAP_PATTERN, gaps = True).tokenize\n",
        "    tokens = regex_wt(text)\n",
        "    tokens = [token.strip() for token in tokens]\n",
        "    filtered_tokens = [token for token in tokens if token not in stop_words]\n",
        "    filtered_text = ' '.join(filtered_tokens)\n",
        "    return filtered_text\n",
        "\n",
        "  def pipeline(self, text):\n",
        "    text = self.expand_contractions(text)\n",
        "    text = self.remove_special_characters(text)\n",
        "    text = self.lower_all(text)\n",
        "    text = self.remove_stopwords(text)\n",
        "    return text\n",
        "\n",
        "string = \"Y'all can't expand contractions the I'd think %%@@###???\"\n",
        "tp = TextProcessor()\n",
        "tp.pipeline(string)"
      ],
      "execution_count": 48,
      "outputs": [
        {
          "output_type": "stream",
          "text": [
            "GROUP  Y'all\n",
            "GROUP  can't\n",
            "GROUP  I'd\n"
          ],
          "name": "stdout"
        },
        {
          "output_type": "execute_result",
          "data": {
            "text/plain": [
              "'cannot expand contractions would think'"
            ]
          },
          "metadata": {
            "tags": []
          },
          "execution_count": 48
        }
      ]
    },
    {
      "cell_type": "code",
      "metadata": {
        "id": "BGVyivRglcUj",
        "colab_type": "code",
        "colab": {}
      },
      "source": [
        "default_wt = nltk.word_tokenize\n",
        "treebank_wt = nltk.TreebankWordTokenizer()\n",
        "default_words = []\n",
        "treebank_words =[]\n",
        "\n",
        "for j in range(5):\n",
        "  default_words.append(regex_wt(negative_texts.iloc[j,1]))\n",
        "  treebank_words.append(treebank_wt.tokenize(negative_texts.iloc[j,1]))\n",
        "print(default_words)\n",
        "print(treebank_words)"
      ],
      "execution_count": 0,
      "outputs": []
    },
    {
      "cell_type": "code",
      "metadata": {
        "id": "Cm7fckQh240w",
        "colab_type": "code",
        "colab": {}
      },
      "source": [
        "tproc = TextProcessor()\n",
        "from sklearn.model_selection import train_test_split\n",
        "from keras.models import Sequential\n",
        "from keras.layers import Flatten, Dense\n",
        "data = train\n",
        "max_features = 50000\n",
        "maxlen = 20\n",
        "X = data['question_text']\n",
        "y = data['target']\n",
        "for j in range(X.shape[0]):\n",
        "  if j%100==0:\n",
        "    print(j,\"/\",X.shape[0],\" Done\")\n",
        "  X[j] = tproc.pipeline(X[j])\n",
        "\n"
      ],
      "execution_count": 0,
      "outputs": []
    },
    {
      "cell_type": "code",
      "metadata": {
        "id": "lMFfMkb1_Aqi",
        "colab_type": "code",
        "colab": {}
      },
      "source": [
        "from keras.layers import Embedding\n",
        "from keras import preprocessing\n",
        "from keras.preprocessing.text import Tokenizer\n",
        "from sklearn.pipeline import Pipeline, make_pipeline\n"
      ],
      "execution_count": 0,
      "outputs": []
    },
    {
      "cell_type": "code",
      "metadata": {
        "id": "RDC72UI2gHSP",
        "colab_type": "code",
        "colab": {}
      },
      "source": [
        "from sklearn.base import BaseEstimator, TransformerMixin\n",
        "from sklearn.preprocessing import OneHotEncoder\n",
        "class MyModel(BaseEstimator, TransformerMixin):\n",
        "  def __init__(self):\n",
        "    self.max_words = 50000\n",
        "    self.max_len = 20\n",
        "    self.emb_dim = 10\n",
        "    self.epochs = 10\n",
        "    self.batch_size = 32\n",
        "    self.validation_split = 0.2\n",
        "    self.tokenizer = Tokenizer(num_words = self.max_len)\n",
        "    self.model = self.model()\n",
        "\n",
        "  def model(self): \n",
        "    model = Sequential()\n",
        "    model.add(Embedding(self.max_words, self.emb_dim, input_length = self.max_len))\n",
        "    model.add(Flatten())\n",
        "    model.add(Dense(2, activation='softmax'))\n",
        "    model.compile(optimizer = 'adam', loss='categorical_crossentropy', metrics = ['acc'])\n",
        "    return model\n",
        "  \n",
        "  def pad_sequence(self, texts):\n",
        "    sequence = preprocessing.sequence.pad_sequences(texts, maxlen = self.max_len)\n",
        "    return sequence\n",
        "  \n",
        "  def tokenize_text(self, texts):\n",
        "    return self.tokenizer.texts_to_sequences(texts)\n",
        "\n",
        "  def transform(self, texts):\n",
        "    texts = self.tokenize_text(texts)\n",
        "    texts = self.pad_sequence(texts)\n",
        "    return texts\n",
        "\n",
        "  def predict(self, text):\n",
        "    text = self.transform(text)\n",
        "    return self.model.predict(text)\n",
        "  \n",
        "  def predict_proba(self, text):\n",
        "    text = self.transform(text)\n",
        "    return self.model.predict(text)\n",
        "  \n",
        "  def fit(self, X, y):\n",
        "    ohe = OneHotEncoder()\n",
        "    y = np.array(y).reshape(-1,1)\n",
        "    y = ohe.fit_transform(y).toarray()\n",
        "    x_train, x_test, y_train, y_test = train_test_split(X,y,test_size=0.25)\n",
        "    self.tokenizer.fit_on_texts(x_train)\n",
        "    x_train = self.transform(x_train)\n",
        "    history = self.model.fit(x_train, y_train, epochs = self.epochs, batch_size = self.batch_size, validation_split=self.validation_split)\n",
        "    return history\n"
      ],
      "execution_count": 0,
      "outputs": []
    },
    {
      "cell_type": "code",
      "metadata": {
        "id": "drJTkG-dw0Gr",
        "colab_type": "code",
        "colab": {
          "base_uri": "https://localhost:8080/",
          "height": 196
        },
        "outputId": "77ea98ba-f734-42be-d734-bc7d90c978e5"
      },
      "source": [
        "x = np.array([1,1,1,2,2])\n",
        "ohe = OneHotEncoder()\n",
        "x = ohe.fit_transform(x.reshape(-1,1)).toarray()\n",
        "print(x)"
      ],
      "execution_count": 114,
      "outputs": [
        {
          "output_type": "stream",
          "text": [
            "[[1. 0.]\n",
            " [1. 0.]\n",
            " [1. 0.]\n",
            " [0. 1.]\n",
            " [0. 1.]]\n"
          ],
          "name": "stdout"
        },
        {
          "output_type": "stream",
          "text": [
            "/usr/local/lib/python3.6/dist-packages/sklearn/preprocessing/_encoders.py:415: FutureWarning: The handling of integer data will change in version 0.22. Currently, the categories are determined based on the range [0, max(values)], while in the future they will be determined based on the unique values.\n",
            "If you want the future behaviour and silence this warning, you can specify \"categories='auto'\".\n",
            "In case you used a LabelEncoder before this OneHotEncoder to convert the categories to integers, then you can now use the OneHotEncoder directly.\n",
            "  warnings.warn(msg, FutureWarning)\n"
          ],
          "name": "stderr"
        }
      ]
    },
    {
      "cell_type": "code",
      "metadata": {
        "id": "k0EZeDxzrkXi",
        "colab_type": "code",
        "colab": {
          "base_uri": "https://localhost:8080/",
          "height": 481
        },
        "outputId": "5cf86da3-4ebb-4d00-fb67-fc6986e02269"
      },
      "source": [
        "new_model = MyModel()\n",
        "history = new_model.fit(X, y)"
      ],
      "execution_count": 124,
      "outputs": [
        {
          "output_type": "stream",
          "text": [
            "/usr/local/lib/python3.6/dist-packages/sklearn/preprocessing/_encoders.py:415: FutureWarning: The handling of integer data will change in version 0.22. Currently, the categories are determined based on the range [0, max(values)], while in the future they will be determined based on the unique values.\n",
            "If you want the future behaviour and silence this warning, you can specify \"categories='auto'\".\n",
            "In case you used a LabelEncoder before this OneHotEncoder to convert the categories to integers, then you can now use the OneHotEncoder directly.\n",
            "  warnings.warn(msg, FutureWarning)\n"
          ],
          "name": "stderr"
        },
        {
          "output_type": "stream",
          "text": [
            "Train on 783672 samples, validate on 195919 samples\n",
            "Epoch 1/10\n",
            "783672/783672 [==============================] - 81s 104us/step - loss: 0.1963 - acc: 0.9379 - val_loss: 0.1944 - val_acc: 0.9384\n",
            "Epoch 2/10\n",
            "783672/783672 [==============================] - 81s 103us/step - loss: 0.1946 - acc: 0.9381 - val_loss: 0.1942 - val_acc: 0.9384\n",
            "Epoch 3/10\n",
            "783672/783672 [==============================] - 80s 103us/step - loss: 0.1946 - acc: 0.9381 - val_loss: 0.1944 - val_acc: 0.9385\n",
            "Epoch 4/10\n",
            "783672/783672 [==============================] - 80s 102us/step - loss: 0.1945 - acc: 0.9382 - val_loss: 0.1939 - val_acc: 0.9385\n",
            "Epoch 5/10\n",
            "783672/783672 [==============================] - 79s 101us/step - loss: 0.1944 - acc: 0.9382 - val_loss: 0.1964 - val_acc: 0.9381\n",
            "Epoch 6/10\n",
            "783672/783672 [==============================] - 80s 102us/step - loss: 0.1944 - acc: 0.9382 - val_loss: 0.1940 - val_acc: 0.9384\n",
            "Epoch 7/10\n",
            "783672/783672 [==============================] - 80s 102us/step - loss: 0.1943 - acc: 0.9381 - val_loss: 0.1942 - val_acc: 0.9383\n",
            "Epoch 8/10\n",
            "783672/783672 [==============================] - 81s 103us/step - loss: 0.1943 - acc: 0.9381 - val_loss: 0.1941 - val_acc: 0.9384\n",
            "Epoch 9/10\n",
            "783672/783672 [==============================] - 81s 103us/step - loss: 0.1943 - acc: 0.9382 - val_loss: 0.1940 - val_acc: 0.9385\n",
            "Epoch 10/10\n",
            "783672/783672 [==============================] - 82s 104us/step - loss: 0.1943 - acc: 0.9381 - val_loss: 0.1940 - val_acc: 0.9385\n"
          ],
          "name": "stdout"
        }
      ]
    },
    {
      "cell_type": "code",
      "metadata": {
        "id": "dCLrd521FFYF",
        "colab_type": "code",
        "colab": {
          "base_uri": "https://localhost:8080/",
          "height": 316
        },
        "outputId": "5f5648d7-8fea-4faf-8d94-bfad892747ec"
      },
      "source": [
        "import matplotlib.pyplot as plt\n",
        "acc = history.history['acc']\n",
        "val_acc = history.history['val_acc']\n",
        "loss = history.history['loss']\n",
        "val_loss = history.history['val_loss']\n",
        "epochs = range(1, len(acc) + 1)\n",
        "plt.plot(epochs, acc, 'bo', label='Training acc')\n",
        "plt.plot(epochs, val_acc, 'b', label='Validation acc')\n",
        "plt.title('Training and validation accuracy')\n",
        "plt.legend()\n",
        "plt.figure()"
      ],
      "execution_count": 125,
      "outputs": [
        {
          "output_type": "execute_result",
          "data": {
            "text/plain": [
              "<Figure size 432x288 with 0 Axes>"
            ]
          },
          "metadata": {
            "tags": []
          },
          "execution_count": 125
        },
        {
          "output_type": "display_data",
          "data": {
            "image/png": "[encoded data removed]",
            "text/plain": [
              "<Figure size 432x288 with 1 Axes>"
            ]
          },
          "metadata": {
            "tags": []
          }
        },
        {
          "output_type": "display_data",
          "data": {
            "text/plain": [
              "<Figure size 432x288 with 0 Axes>"
            ]
          },
          "metadata": {
            "tags": []
          }
        }
      ]
    },
    {
      "cell_type": "code",
      "metadata": {
        "id": "8llXxtn2H1L4",
        "colab_type": "code",
        "colab": {
          "base_uri": "https://localhost:8080/",
          "height": 1000
        },
        "outputId": "bb802392-aedc-48ec-c138-ec4960d767e3"
      },
      "source": [
        "test_text = [\"Should People be alive or should they die horrible death?\"]\n",
        "val = new_model.predict(test_text[0])\n",
        "print(val)"
      ],
      "execution_count": 127,
      "outputs": [
        {
          "output_type": "stream",
          "text": [
            "[[0.9380862  0.06191375]\n",
            " [0.9380862  0.06191375]\n",
            " [0.9380862  0.06191375]\n",
            " [0.9380862  0.06191375]\n",
            " [0.9380862  0.06191375]\n",
            " [0.9380862  0.06191375]\n",
            " [0.9380862  0.06191375]\n",
            " [0.9380862  0.06191375]\n",
            " [0.9380862  0.06191375]\n",
            " [0.9380862  0.06191375]\n",
            " [0.9380862  0.06191375]\n",
            " [0.9380862  0.06191375]\n",
            " [0.9380862  0.06191375]\n",
            " [0.9380862  0.06191375]\n",
            " [0.9380862  0.06191375]\n",
            " [0.9380862  0.06191375]\n",
            " [0.9380862  0.06191375]\n",
            " [0.94169587 0.05830408]\n",
            " [0.9380862  0.06191375]\n",
            " [0.96204644 0.03795353]\n",
            " [0.9380862  0.06191375]\n",
            " [0.9380862  0.06191375]\n",
            " [0.9380862  0.06191375]\n",
            " [0.9380862  0.06191375]\n",
            " [0.9380862  0.06191375]\n",
            " [0.9380862  0.06191375]\n",
            " [0.9380862  0.06191375]\n",
            " [0.9380862  0.06191375]\n",
            " [0.9380862  0.06191375]\n",
            " [0.9380862  0.06191375]\n",
            " [0.9380862  0.06191375]\n",
            " [0.9380862  0.06191375]\n",
            " [0.9380862  0.06191375]\n",
            " [0.9380862  0.06191375]\n",
            " [0.9380862  0.06191375]\n",
            " [0.9380862  0.06191375]\n",
            " [0.9380862  0.06191375]\n",
            " [0.9380862  0.06191375]\n",
            " [0.9380862  0.06191375]\n",
            " [0.96204644 0.03795353]\n",
            " [0.9380862  0.06191375]\n",
            " [0.9380862  0.06191375]\n",
            " [0.9380862  0.06191375]\n",
            " [0.9380862  0.06191375]\n",
            " [0.9380862  0.06191375]\n",
            " [0.9380862  0.06191375]\n",
            " [0.96204644 0.03795353]\n",
            " [0.9380862  0.06191375]\n",
            " [0.9380862  0.06191375]\n",
            " [0.9380862  0.06191375]\n",
            " [0.9380862  0.06191375]\n",
            " [0.9380862  0.06191375]\n",
            " [0.9380862  0.06191375]\n",
            " [0.94169587 0.05830408]\n",
            " [0.9380862  0.06191375]\n",
            " [0.9380862  0.06191375]\n",
            " [0.9380862  0.06191375]]\n"
          ],
          "name": "stdout"
        }
      ]
    },
    {
      "cell_type": "code",
      "metadata": {
        "id": "K9RHDyX5Z5c7",
        "colab_type": "code",
        "colab": {
          "base_uri": "https://localhost:8080/",
          "height": 283
        },
        "outputId": "7ab5a927-b325-4f7b-cb11-288099fef584"
      },
      "source": [
        "!pip install eli5"
      ],
      "execution_count": 67,
      "outputs": [
        {
          "output_type": "stream",
          "text": [
            "Collecting eli5\n",
            "\u001b[?25l  Downloading https://files.pythonhosted.org/packages/97/2f/c85c7d8f8548e460829971785347e14e45fa5c6617da374711dec8cb38cc/eli5-0.10.1-py2.py3-none-any.whl (105kB)\n",
            "\r\u001b[K     |███                             | 10kB 21.5MB/s eta 0:00:01\r\u001b[K     |██████▏                         | 20kB 3.1MB/s eta 0:00:01\r\u001b[K     |█████████▎                      | 30kB 4.5MB/s eta 0:00:01\r\u001b[K     |████████████▍                   | 40kB 3.1MB/s eta 0:00:01\r\u001b[K     |███████████████▌                | 51kB 3.8MB/s eta 0:00:01\r\u001b[K     |██████████████████▋             | 61kB 4.4MB/s eta 0:00:01\r\u001b[K     |█████████████████████▊          | 71kB 5.1MB/s eta 0:00:01\r\u001b[K     |████████████████████████▊       | 81kB 5.8MB/s eta 0:00:01\r\u001b[K     |███████████████████████████▉    | 92kB 6.4MB/s eta 0:00:01\r\u001b[K     |███████████████████████████████ | 102kB 5.1MB/s eta 0:00:01\r\u001b[K     |████████████████████████████████| 112kB 5.1MB/s \n",
            "\u001b[?25hRequirement already satisfied: attrs>16.0.0 in /usr/local/lib/python3.6/dist-packages (from eli5) (19.3.0)\n",
            "Requirement already satisfied: six in /usr/local/lib/python3.6/dist-packages (from eli5) (1.12.0)\n",
            "Requirement already satisfied: tabulate>=0.7.7 in /usr/local/lib/python3.6/dist-packages (from eli5) (0.8.5)\n",
            "Requirement already satisfied: scipy in /usr/local/lib/python3.6/dist-packages (from eli5) (1.3.2)\n",
            "Requirement already satisfied: graphviz in /usr/local/lib/python3.6/dist-packages (from eli5) (0.10.1)\n",
            "Requirement already satisfied: jinja2 in /usr/local/lib/python3.6/dist-packages (from eli5) (2.10.3)\n",
            "Requirement already satisfied: numpy>=1.9.0 in /usr/local/lib/python3.6/dist-packages (from eli5) (1.17.4)\n",
            "Requirement already satisfied: scikit-learn>=0.18 in /usr/local/lib/python3.6/dist-packages (from eli5) (0.21.3)\n",
            "Requirement already satisfied: MarkupSafe>=0.23 in /usr/local/lib/python3.6/dist-packages (from jinja2->eli5) (1.1.1)\n",
            "Requirement already satisfied: joblib>=0.11 in /usr/local/lib/python3.6/dist-packages (from scikit-learn>=0.18->eli5) (0.14.0)\n",
            "Installing collected packages: eli5\n",
            "Successfully installed eli5-0.10.1\n"
          ],
          "name": "stdout"
        }
      ]
    },
    {
      "cell_type": "code",
      "metadata": {
        "id": "yy-wVnvrZY8s",
        "colab_type": "code",
        "colab": {
          "base_uri": "https://localhost:8080/",
          "height": 1000
        },
        "outputId": "12f5c73e-5256-48a5-c4ec-e83c704a6826"
      },
      "source": [
        "import eli5\n",
        "from sklearn.datasets import fetch_20newsgroups\n",
        "\n",
        "categories = ['alt.atheism', 'soc.religion.christian',\n",
        "              'comp.graphics', 'sci.med']\n",
        "x1 = train.loc[train['target'] == 0, 'question_text']\n",
        "x1 = x1[0]\n",
        "print(new_model.predict(test_t))\n",
        "twenty_test = fetch_20newsgroups(\n",
        "    subset='test',\n",
        "    categories=categories,\n",
        "    shuffle=True,\n",
        "    random_state=42,\n",
        "    remove=('headers', 'footers'),\n",
        ")\n",
        "doc = twenty_test.data[0]\n",
        "print(type(test_t))\n",
        "from eli5.lime import TextExplainer\n",
        "# from skater.core.local_interpretation.lime.lime_text import LimeTextExplainer\n",
        "classes = [0,1]\n",
        "te = TextExplainer(random_state = 42)\n",
        "\n",
        "te.fit(x1, new_model.predict)\n",
        "te.show_prediction(target_names = classes)"
      ],
      "execution_count": 149,
      "outputs": [
        {
          "output_type": "stream",
          "text": [
            "[[0.94169587 0.05830408]\n",
            " [0.9380862  0.06191375]\n",
            " [0.9380862  0.06191375]\n",
            " [0.9380862  0.06191375]\n",
            " [0.9380862  0.06191375]\n",
            " [0.9380862  0.06191375]\n",
            " [0.9380862  0.06191375]\n",
            " [0.9380862  0.06191375]\n",
            " [0.94169587 0.05830408]\n",
            " [0.9380862  0.06191375]\n",
            " [0.9380862  0.06191375]\n",
            " [0.96204644 0.03795353]\n",
            " [0.9380862  0.06191375]\n",
            " [0.94169587 0.05830408]\n",
            " [0.9380862  0.06191375]\n",
            " [0.9380862  0.06191375]\n",
            " [0.9380862  0.06191375]\n",
            " [0.9380862  0.06191375]\n",
            " [0.96204644 0.03795353]\n",
            " [0.9380862  0.06191375]\n",
            " [0.9380862  0.06191375]\n",
            " [0.9380862  0.06191375]\n",
            " [0.9380862  0.06191375]\n",
            " [0.96204644 0.03795353]\n",
            " [0.9380862  0.06191375]\n",
            " [0.9380862  0.06191375]\n",
            " [0.9380862  0.06191375]\n",
            " [0.9380862  0.06191375]\n",
            " [0.9380862  0.06191375]\n",
            " [0.9380862  0.06191375]\n",
            " [0.96204644 0.03795353]\n",
            " [0.9380862  0.06191375]\n",
            " [0.9380862  0.06191375]\n",
            " [0.9380862  0.06191375]\n",
            " [0.9380862  0.06191375]\n",
            " [0.9380862  0.06191375]\n",
            " [0.9380862  0.06191375]\n",
            " [0.94169587 0.05830408]\n",
            " [0.9380862  0.06191375]\n",
            " [0.9380862  0.06191375]\n",
            " [0.9380862  0.06191375]\n",
            " [0.9380862  0.06191375]\n",
            " [0.9380862  0.06191375]\n",
            " [0.9380862  0.06191375]\n",
            " [0.9380862  0.06191375]\n",
            " [0.9380862  0.06191375]\n",
            " [0.94169587 0.05830408]\n",
            " [0.9380862  0.06191375]\n",
            " [0.9380862  0.06191375]]\n",
            "<class 'str'>\n"
          ],
          "name": "stdout"
        },
        {
          "output_type": "execute_result",
          "data": {
            "text/html": [
              "\n",
              "    <style>\n",
              "    table.eli5-weights tr:hover {\n",
              "        filter: brightness(85%);\n",
              "    }\n",
              "</style>\n",
              "\n",
              "\n",
              "\n",
              "    \n",
              "\n",
              "    \n",
              "\n",
              "    \n",
              "\n",
              "    \n",
              "\n",
              "    \n",
              "\n",
              "    \n",
              "\n",
              "\n",
              "    \n",
              "\n",
              "    \n",
              "\n",
              "    \n",
              "\n",
              "    \n",
              "        \n",
              "\n",
              "    \n",
              "\n",
              "        \n",
              "\n",
              "        \n",
              "    \n",
              "        \n",
              "        \n",
              "    \n",
              "        <p style=\"margin-bottom: 0.5em; margin-top: 0em\">\n",
              "            <b>\n",
              "    \n",
              "        y=0\n",
              "    \n",
              "</b>\n",
              "\n",
              "    \n",
              "    (probability <b>0.951</b>, score <b>-2.966</b>)\n",
              "\n",
              "top features\n",
              "        </p>\n",
              "    \n",
              "    <table class=\"eli5-weights\"\n",
              "           style=\"border-collapse: collapse; border: none; margin-top: 0em; table-layout: auto; margin-bottom: 2em;\">\n",
              "        <thead>\n",
              "        <tr style=\"border: none;\">\n",
              "            \n",
              "                <th style=\"padding: 0 1em 0 0.5em; text-align: right; border: none;\" title=\"Feature contribution already accounts for the feature value (for linear models, contribution = weight * feature value), and the sum of feature contributions is equal to the score or, for some classifiers, to the probability. Feature values are shown if &quot;show_feature_values&quot; is True.\">\n",
              "                    Contribution<sup>?</sup>\n",
              "                </th>\n",
              "            \n",
              "            <th style=\"padding: 0 0.5em 0 0.5em; text-align: left; border: none;\">Feature</th>\n",
              "            \n",
              "        </tr>\n",
              "        </thead>\n",
              "        <tbody>\n",
              "        \n",
              "            <tr style=\"background-color: hsl(120, 100.00%, 80.00%); border: none;\">\n",
              "    <td style=\"padding: 0 1em 0 0.5em; text-align: right; border: none;\">\n",
              "        +2.094\n",
              "    </td>\n",
              "    <td style=\"padding: 0 0.5em 0 0.5em; text-align: left; border: none;\">\n",
              "        Highlighted in text (sum)\n",
              "    </td>\n",
              "    \n",
              "</tr>\n",
              "        \n",
              "            <tr style=\"background-color: hsl(120, 100.00%, 89.18%); border: none;\">\n",
              "    <td style=\"padding: 0 1em 0 0.5em; text-align: right; border: none;\">\n",
              "        +0.871\n",
              "    </td>\n",
              "    <td style=\"padding: 0 0.5em 0 0.5em; text-align: left; border: none;\">\n",
              "        &lt;BIAS&gt;\n",
              "    </td>\n",
              "    \n",
              "</tr>\n",
              "        \n",
              "        \n",
              "\n",
              "        \n",
              "        \n",
              "\n",
              "        </tbody>\n",
              "    </table>\n",
              "\n",
              "    \n",
              "\n",
              "\n",
              "\n",
              "    <p style=\"margin-bottom: 2.5em; margin-top:-0.5em;\">\n",
              "        <span style=\"background-color: hsl(120, 100.00%, 76.13%); opacity: 0.90\" title=\"0.078\">quebec</span><span style=\"opacity: 0.80\"> </span><span style=\"background-color: hsl(0, 100.00%, 62.50%); opacity: 0.98\" title=\"-0.149\">nationalists</span><span style=\"opacity: 0.80\"> </span><span style=\"background-color: hsl(0, 100.00%, 68.43%); opacity: 0.94\" title=\"-0.116\">see</span><span style=\"opacity: 0.80\"> </span><span style=\"background-color: hsl(0, 100.00%, 99.12%); opacity: 0.80\" title=\"-0.001\">province</span><span style=\"opacity: 0.80\"> </span><span style=\"background-color: hsl(0, 100.00%, 60.31%); opacity: 1.00\" title=\"-0.161\">nation</span><span style=\"opacity: 0.80\"> </span><span style=\"background-color: hsl(120, 100.00%, 60.00%); opacity: 1.00\" title=\"0.163\">1960s</span>\n",
              "    </p>\n",
              "\n",
              "\n",
              "    \n",
              "\n",
              "    \n",
              "\n",
              "    \n",
              "\n",
              "    \n",
              "\n",
              "\n",
              "    \n",
              "\n",
              "    \n",
              "\n",
              "    \n",
              "\n",
              "    \n",
              "\n",
              "    \n",
              "\n",
              "    \n",
              "\n",
              "\n",
              "    \n",
              "\n",
              "    \n",
              "\n",
              "    \n",
              "\n",
              "    \n",
              "\n",
              "    \n",
              "\n",
              "    \n",
              "\n",
              "\n",
              "\n"
            ],
            "text/plain": [
              "<IPython.core.display.HTML object>"
            ]
          },
          "metadata": {
            "tags": []
          },
          "execution_count": 149
        }
      ]
    }
  ]
}